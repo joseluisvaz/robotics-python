{
 "cells": [
  {
   "cell_type": "markdown",
   "id": "80e048f2",
   "metadata": {},
   "source": [
    "# Convex Optimization"
   ]
  },
  {
   "cell_type": "markdown",
   "id": "0c0993cf",
   "metadata": {},
   "source": [
    "This is a notebook for playing with convex optimization solvers and methods, its main purpose is educational and it serves as aid to improve my knowledge in COCP (Convex optimal control problems) and trajectory optimization."
   ]
  },
  {
   "cell_type": "markdown",
   "id": "2b85a867",
   "metadata": {},
   "source": [
    "## Root finding using Newton-Raphson method\n",
    "\n",
    "To find the square root of $a$ we need to define a function which has a zero where the solution to the square root is, we do this by defining the equation:\n",
    "\n",
    "$$ f(a) = \\sqrt{a}  \\implies x = \\sqrt{a} \\implies  0 = a - x^2 $$\n",
    "\n",
    "To find the root of the following equation $g(x) = a - x^2$ we need its derivative, which is $g'(x) = -2 x$\n",
    "\n",
    "The newton raphson method consists in applying the following update equation around a point that is close to the optimum.\n",
    "\n",
    "$$x_{n + 1} = x_n - \\frac{g(x_n)}{g'(x_n)}$$"
   ]
  },
  {
   "cell_type": "code",
   "execution_count": 44,
   "id": "ed7fce89",
   "metadata": {},
   "outputs": [
    {
     "name": "stdout",
     "output_type": "stream",
     "text": [
      "15.0\n",
      "10.166666666666668\n",
      "9.01775956284153\n",
      "8.944571343305327\n",
      "8.944271915011154\n",
      "8.94427190999916\n"
     ]
    }
   ],
   "source": [
    "import numpy as np\n",
    "import sympy\n",
    "\n",
    "def find_root(f, fx, x):\n",
    "    while abs(f(x)) > 1e-9:\n",
    "        print(x)\n",
    "        x = x - f(x)/fx(x)\n",
    "    print(x)\n",
    "    return x\n",
    "\n",
    "a = 80\n",
    "f = lambda x: a - x * x\n",
    "fx = lambda x: -2 * x\n",
    "\n",
    "root_x = find_root(f, fx, 15.0)"
   ]
  },
  {
   "cell_type": "markdown",
   "id": "dfee3c02",
   "metadata": {},
   "source": [
    "# Newton method for optimization"
   ]
  },
  {
   "cell_type": "markdown",
   "id": "e1c748ec",
   "metadata": {},
   "source": [
    "We can use the sam newton method to perform optimization but now with the first and second derivatives of the function that we plan to optimize. e.g.\n",
    "\n",
    "$$\n",
    "f(x) = (x - 6)^4 \\\\\n",
    "$$\n",
    "\n",
    "The update rule for the newton method is analogous to the root finding problem but now we are trying to find the root of $g'(x)$:\n",
    "\n",
    "$$x_{n + 1} = x_n - \\frac{g'(x_n)}{g''(x_n)}$$\n",
    "\n",
    "If we were optimizing a quadratic function, the taylor approximation used in the derivation of the newton method yields not an approximation but the exact function we are minimizing, therefore we would converge in one iteration."
   ]
  },
  {
   "cell_type": "code",
   "execution_count": 52,
   "id": "a85af94a",
   "metadata": {},
   "outputs": [
    {
     "name": "stdout",
     "output_type": "stream",
     "text": [
      "629.8560000000001\n",
      "186.62399999999994\n",
      "55.29600000000003\n",
      "16.384000000000018\n",
      "4.854518518518527\n",
      "1.4383758573388212\n",
      "0.42618543921150176\n",
      "0.12627716717377865\n",
      "0.03741545694037886\n",
      "0.01108606131566788\n",
      "0.00328475890834607\n",
      "0.0009732618987692198\n",
      "0.0002883738959316145\n",
      "8.544411731306823e-05\n"
     ]
    },
    {
     "data": {
      "text/plain": [
       "6.027746447865332"
      ]
     },
     "execution_count": 52,
     "metadata": {},
     "output_type": "execute_result"
    }
   ],
   "source": [
    "def newthon_method(f, fx, fxx, x):\n",
    "    while abs(fx(x)) > 1e-4:\n",
    "        print(fx(x))\n",
    "        x = x - fx(x)/fxx(x)\n",
    "    print(fx(x))\n",
    "    return x\n",
    "\n",
    "x = sympy.symbols('x')\n",
    "sym_f = (x - 6) ** 4\n",
    "sym_fx = sympy.diff(sym_f, x, 1)\n",
    "sym_fxx = sympy.diff(sym_f, x, 2)\n",
    "\n",
    "f = sympy.lambdify(x, sym_f)\n",
    "fx = sympy.lambdify(x, sym_fx)\n",
    "fxx = sympy.lambdify(x, sym_fxx)\n",
    "\n",
    "newthon_method(f, fx, fxx, 11.4)"
   ]
  },
  {
   "cell_type": "code",
   "execution_count": 53,
   "id": "6238022b",
   "metadata": {},
   "outputs": [
    {
     "data": {
      "text/latex": [
       "$\\displaystyle \\left[\\begin{matrix}4\\\\1\\end{matrix}\\right]$"
      ],
      "text/plain": [
       "Matrix([\n",
       "[4],\n",
       "[1]])"
      ]
     },
     "execution_count": 53,
     "metadata": {},
     "output_type": "execute_result"
    }
   ],
   "source": [
    "sympy.Matrix([])"
   ]
  },
  {
   "cell_type": "code",
   "execution_count": null,
   "id": "c6f389ba",
   "metadata": {},
   "outputs": [],
   "source": []
  }
 ],
 "metadata": {
  "kernelspec": {
   "display_name": "Python 3 (ipykernel)",
   "language": "python",
   "name": "python3"
  },
  "language_info": {
   "codemirror_mode": {
    "name": "ipython",
    "version": 3
   },
   "file_extension": ".py",
   "mimetype": "text/x-python",
   "name": "python",
   "nbconvert_exporter": "python",
   "pygments_lexer": "ipython3",
   "version": "3.10.6"
  }
 },
 "nbformat": 4,
 "nbformat_minor": 5
}
